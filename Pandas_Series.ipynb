{
  "nbformat": 4,
  "nbformat_minor": 0,
  "metadata": {
    "colab": {
      "name": "Pandas 정리 / Series.ipynb",
      "provenance": [],
      "authorship_tag": "ABX9TyN5LYCLb0rmGoYVDIVvGegE",
      "include_colab_link": true
    },
    "kernelspec": {
      "name": "python3",
      "display_name": "Python 3"
    },
    "language_info": {
      "name": "python"
    }
  },
  "cells": [
    {
      "cell_type": "markdown",
      "metadata": {
        "id": "view-in-github",
        "colab_type": "text"
      },
      "source": [
        "<a href=\"https://colab.research.google.com/github/JJang-likit/Basic-Study/blob/main/Pandas_Series.ipynb\" target=\"_parent\"><img src=\"https://colab.research.google.com/assets/colab-badge.svg\" alt=\"Open In Colab\"/></a>"
      ]
    },
    {
      "cell_type": "markdown",
      "source": [
        "# Pandas 정리"
      ],
      "metadata": {
        "id": "osl10EKSuGad"
      }
    },
    {
      "cell_type": "markdown",
      "source": [
        "#### 라이브러리 임포트\n",
        "- Pandas를 사용하기 위해서는 import 과정이 필요하다."
      ],
      "metadata": {
        "id": "VvZghVGiuPCu"
      }
    },
    {
      "cell_type": "code",
      "source": [
        "import pandas as ps\n",
        "from pandas import Series\n",
        "print('import finish')"
      ],
      "metadata": {
        "colab": {
          "base_uri": "https://localhost:8080/"
        },
        "id": "Ygu4isviwOMb",
        "outputId": "b467ad9f-d70f-4e89-9deb-7f25a34215b5"
      },
      "execution_count": null,
      "outputs": [
        {
          "output_type": "stream",
          "name": "stdout",
          "text": [
            "import finish\n"
          ]
        }
      ]
    },
    {
      "cell_type": "markdown",
      "source": [
        "### **Series** 생성\n",
        "- 1차원 데이터를 저장하는 리스트, 튜플, 사전 타입 등을 이용해서 Series 객체를 생성할 수 있다."
      ],
      "metadata": {
        "id": "CzOMg7o0wXjM"
      }
    },
    {
      "cell_type": "code",
      "source": [
        "# List 사용하여 Series 생성하기\n",
        "\n",
        "arr = [1, 2, 3, 4]\n",
        "data1 = Series(arr)\n",
        "data1"
      ],
      "metadata": {
        "colab": {
          "base_uri": "https://localhost:8080/"
        },
        "id": "ehplj7j4wh4x",
        "outputId": "7797c9a4-4877-4d3b-e5e2-fc8c7635f48e"
      },
      "execution_count": null,
      "outputs": [
        {
          "output_type": "execute_result",
          "data": {
            "text/plain": [
              "0    1\n",
              "1    2\n",
              "2    3\n",
              "3    4\n",
              "dtype: int64"
            ]
          },
          "metadata": {},
          "execution_count": 10
        }
      ]
    },
    {
      "cell_type": "code",
      "source": [
        "#Index 삽입하기\n",
        "\n",
        "data1.index = {'a', 'b', 'c', 'd'}\n",
        "data1.index"
      ],
      "metadata": {
        "colab": {
          "base_uri": "https://localhost:8080/"
        },
        "id": "MSu6EXl2xE9N",
        "outputId": "d4797fb5-756c-490b-ff8c-871dd0f0649a"
      },
      "execution_count": null,
      "outputs": [
        {
          "output_type": "execute_result",
          "data": {
            "text/plain": [
              "Index(['d', 'b', 'c', 'a'], dtype='object')"
            ]
          },
          "metadata": {},
          "execution_count": 14
        }
      ]
    },
    {
      "cell_type": "code",
      "source": [
        "# Index를 포함하는 Series 만들기\n",
        "data2 = Series([10, 20, 30, 40], ['aa', 'bb', 'cc', 'dd'])\n",
        "data2.index"
      ],
      "metadata": {
        "colab": {
          "base_uri": "https://localhost:8080/"
        },
        "id": "1iwkh-etxZTv",
        "outputId": "d7a24205-7f7e-4157-fe0e-b8219470e1b0"
      },
      "execution_count": null,
      "outputs": [
        {
          "output_type": "execute_result",
          "data": {
            "text/plain": [
              "Index(['aa', 'bb', 'cc', 'dd'], dtype='object')"
            ]
          },
          "metadata": {},
          "execution_count": 16
        }
      ]
    },
    {
      "cell_type": "markdown",
      "source": [
        "#### Series 생성자의 5개 인자\n",
        "pd.Series(data = None, index = None, dtype = None, name = None, copy = False)\n",
        "- data = Series에 들어갈 1차원 데이터\n",
        "- Index = 인덱스 라벨(**data의 크기와 동일해야 함**)\n",
        "- dtype = 값의 데이터 타입 지정, 미지정시 자동으로 지정됨\n",
        "- name = 이름 설정\n",
        "- copy = 입력 데이터 복사 여부"
      ],
      "metadata": {
        "id": "TQkcCIHexryP"
      }
    },
    {
      "cell_type": "code",
      "source": [
        "# Tuple을 사용하여 Series 생성하기 / List 타입과 거의 비슷\n",
        "\n",
        "arr2 = (100, 200, 300, 400)\n",
        "data2 = Series(arr2)\n",
        "data2"
      ],
      "metadata": {
        "colab": {
          "base_uri": "https://localhost:8080/"
        },
        "id": "9Nbn2Bx1w6rw",
        "outputId": "6fb45afc-d1de-43e9-b0ca-43f764813bd6"
      },
      "execution_count": null,
      "outputs": [
        {
          "output_type": "execute_result",
          "data": {
            "text/plain": [
              "0    100\n",
              "1    200\n",
              "2    300\n",
              "3    400\n",
              "dtype: int64"
            ]
          },
          "metadata": {},
          "execution_count": 20
        }
      ]
    },
    {
      "cell_type": "code",
      "source": [
        "# Dict 타입 변수를 사용해서 Series 생성하기\n",
        "\n",
        "arr3 = {\n",
        "    'Korea':1,\n",
        "    'USA':2,\n",
        "    'Japan':3,\n",
        "    'China':4\n",
        "}\n",
        "data3 = Series(arr3)\n",
        "data3"
      ],
      "metadata": {
        "colab": {
          "base_uri": "https://localhost:8080/"
        },
        "id": "cVhcHvrezsoU",
        "outputId": "8906a025-08fa-434e-fb2a-83b247a6688e"
      },
      "execution_count": null,
      "outputs": [
        {
          "output_type": "execute_result",
          "data": {
            "text/plain": [
              "Korea    1\n",
              "USA      2\n",
              "Japan    3\n",
              "China    4\n",
              "dtype: int64"
            ]
          },
          "metadata": {},
          "execution_count": 21
        }
      ]
    },
    {
      "cell_type": "code",
      "source": [
        "# Series의 값에는 모든 데이터 타입이 사용 가능하다\n",
        "\n",
        "Series(['apple', 1, 3, 5.5, [1,2,3]])"
      ],
      "metadata": {
        "colab": {
          "base_uri": "https://localhost:8080/"
        },
        "id": "5HRNFg-j0DQA",
        "outputId": "cd37bf89-500a-4998-f24d-ebc63d2a3c80"
      },
      "execution_count": null,
      "outputs": [
        {
          "output_type": "execute_result",
          "data": {
            "text/plain": [
              "0        apple\n",
              "1            1\n",
              "2            3\n",
              "3          5.5\n",
              "4    [1, 2, 3]\n",
              "dtype: object"
            ]
          },
          "metadata": {},
          "execution_count": 23
        }
      ]
    },
    {
      "cell_type": "code",
      "execution_count": null,
      "metadata": {
        "colab": {
          "base_uri": "https://localhost:8080/"
        },
        "id": "NPDf37VItyBP",
        "outputId": "97ddadaa-038a-489f-b6ff-e406812223ba"
      },
      "outputs": [
        {
          "output_type": "execute_result",
          "data": {
            "text/plain": [
              "a     85\n",
              "b     90\n",
              "c     75\n",
              "d     55\n",
              "e     45\n",
              "f     90\n",
              "g     95\n",
              "h     85\n",
              "i     90\n",
              "j    100\n",
              "dtype: int64"
            ]
          },
          "metadata": {},
          "execution_count": 24
        }
      ],
      "source": [
        "# 샘플데이터 생성\n",
        "\n",
        "sample = pd.Series([85, 90, 75, 55, 45, 90, 95, 85, 90, 100],\n",
        "                index = ['a', 'b', 'c', 'd', 'e', 'f', 'g', 'h', 'i', 'j'])\n",
        "sample"
      ]
    },
    {
      "cell_type": "markdown",
      "source": [
        "#### 속성(Attribute)은 Series가 가지고 있는 객체, 속성 혹은 간단한 기능을 제공한다."
      ],
      "metadata": {
        "id": "jMsOYkTj0qCP"
      }
    },
    {
      "cell_type": "code",
      "source": [
        "# Index는 Series의 label을 의미한다.\n",
        "\n",
        "sample.index"
      ],
      "metadata": {
        "colab": {
          "base_uri": "https://localhost:8080/"
        },
        "id": "2tBeu7bH0pxG",
        "outputId": "6eb9c90f-9a99-43fc-8736-a5edcb20a1e9"
      },
      "execution_count": null,
      "outputs": [
        {
          "output_type": "execute_result",
          "data": {
            "text/plain": [
              "Index(['a', 'b', 'c', 'd', 'e', 'f', 'g', 'h', 'i', 'j'], dtype='object')"
            ]
          },
          "metadata": {},
          "execution_count": 25
        }
      ]
    },
    {
      "cell_type": "code",
      "source": [
        "# values는 Series의 데이터 값을 의미한다.\n",
        "\n",
        "sample.values"
      ],
      "metadata": {
        "colab": {
          "base_uri": "https://localhost:8080/"
        },
        "id": "uPyvjPqpujto",
        "outputId": "88368564-719c-4731-fe89-9958295c575b"
      },
      "execution_count": null,
      "outputs": [
        {
          "output_type": "execute_result",
          "data": {
            "text/plain": [
              "array([ 85,  90,  75,  55,  45,  90,  95,  85,  90, 100])"
            ]
          },
          "metadata": {},
          "execution_count": 26
        }
      ]
    },
    {
      "cell_type": "code",
      "source": [
        "# size는 Series의 크기(데이터의 길이)를 의미한다.\n",
        "\n",
        "sample.size"
      ],
      "metadata": {
        "colab": {
          "base_uri": "https://localhost:8080/"
        },
        "id": "KFF6Yj111CTX",
        "outputId": "b8838a14-4925-4fba-83f4-fe5bf87657de"
      },
      "execution_count": null,
      "outputs": [
        {
          "output_type": "execute_result",
          "data": {
            "text/plain": [
              "10"
            ]
          },
          "metadata": {},
          "execution_count": 28
        }
      ]
    },
    {
      "cell_type": "code",
      "source": [
        "# dtype은 Series의 데이터 타입을 의미한다.\n",
        "# 정수형은 int64, 실수형은 float64, 문자열이거나 2개 이상의 데이터 타입으로 이루어진 경우 Object\n",
        "\n",
        "sample.dtype"
      ],
      "metadata": {
        "colab": {
          "base_uri": "https://localhost:8080/"
        },
        "id": "fkxx2xoZ1Kmz",
        "outputId": "9f39d628-8930-4dac-a5ef-8bf31c22722c"
      },
      "execution_count": null,
      "outputs": [
        {
          "output_type": "execute_result",
          "data": {
            "text/plain": [
              "dtype('int64')"
            ]
          },
          "metadata": {},
          "execution_count": 29
        }
      ]
    },
    {
      "cell_type": "markdown",
      "source": [
        "### **함수**\n",
        "- 속성(Attribute)보다 다양한 기능을 제공한다.\n",
        "- 함수 호출 시 전달되는 자료들은 인자(argument, parameter)이다.\n",
        "- 각 함수들은 정의된 인자가 있으며 인자값을 토대로 함수를 실행한다.\n",
        "\n",
        "##### **속성과 함수의 차이**\n",
        "- 속성은 뒤에 괄호를 붙이지 않는다.\n",
        "- 함수는 뒤에 괄호()를 붙여줘야 한다."
      ],
      "metadata": {
        "id": "kiRdT0B115mc"
      }
    },
    {
      "cell_type": "code",
      "source": [
        "# describe() - 통계 정보를 한 눈에 제공해주는 함수\n",
        "\n",
        "sample.describe()"
      ],
      "metadata": {
        "colab": {
          "base_uri": "https://localhost:8080/"
        },
        "id": "Qdk_4zL91Y6V",
        "outputId": "b7864d4e-9d12-40c6-e1c7-3fc1575070a6"
      },
      "execution_count": null,
      "outputs": [
        {
          "output_type": "execute_result",
          "data": {
            "text/plain": [
              "count     10.000000\n",
              "mean      81.000000\n",
              "std       17.763883\n",
              "min       45.000000\n",
              "25%       77.500000\n",
              "50%       87.500000\n",
              "75%       90.000000\n",
              "max      100.000000\n",
              "dtype: float64"
            ]
          },
          "metadata": {},
          "execution_count": 30
        }
      ]
    },
    {
      "cell_type": "code",
      "source": [
        "# 통계함수 - max(), min(), avg()..\n",
        "\n",
        "sample.max()"
      ],
      "metadata": {
        "colab": {
          "base_uri": "https://localhost:8080/"
        },
        "id": "L5FpcFEM22Cl",
        "outputId": "eefd0139-720e-42db-a224-33942932037c"
      },
      "execution_count": null,
      "outputs": [
        {
          "output_type": "execute_result",
          "data": {
            "text/plain": [
              "100"
            ]
          },
          "metadata": {},
          "execution_count": 31
        }
      ]
    },
    {
      "cell_type": "code",
      "source": [
        "# add_prefix(prefix) - Index 라벨 앞에 문자열을 추가함\n",
        "\n",
        "sample.add_prefix('NO-')"
      ],
      "metadata": {
        "colab": {
          "base_uri": "https://localhost:8080/"
        },
        "id": "m05Uka4M2YuR",
        "outputId": "a5eeac46-e2d0-4c16-920f-fc35586cb765"
      },
      "execution_count": null,
      "outputs": [
        {
          "output_type": "execute_result",
          "data": {
            "text/plain": [
              "NO-a     85\n",
              "NO-b     90\n",
              "NO-c     75\n",
              "NO-d     55\n",
              "NO-e     45\n",
              "NO-f     90\n",
              "NO-g     95\n",
              "NO-h     85\n",
              "NO-i     90\n",
              "NO-j    100\n",
              "dtype: int64"
            ]
          },
          "metadata": {},
          "execution_count": 34
        }
      ]
    },
    {
      "cell_type": "code",
      "source": [
        "# value_counts() - Series에 있는 데이터 값들의 개수\n",
        "\n",
        "sample.value_counts()"
      ],
      "metadata": {
        "colab": {
          "base_uri": "https://localhost:8080/"
        },
        "id": "IIBR3ru0664k",
        "outputId": "76f4339a-d9fe-4e96-c654-3a78c7560704"
      },
      "execution_count": null,
      "outputs": [
        {
          "output_type": "execute_result",
          "data": {
            "text/plain": [
              "90     3\n",
              "85     2\n",
              "75     1\n",
              "55     1\n",
              "45     1\n",
              "95     1\n",
              "100    1\n",
              "dtype: int64"
            ]
          },
          "metadata": {},
          "execution_count": 35
        }
      ]
    },
    {
      "cell_type": "code",
      "source": [
        "# add(값) - Series의 데이터 각각에 값을 더해줌\n",
        "\n",
        "sample.add(10)"
      ],
      "metadata": {
        "colab": {
          "base_uri": "https://localhost:8080/"
        },
        "id": "J97DU-S77tha",
        "outputId": "386eddba-f997-4036-dd43-236048176171"
      },
      "execution_count": null,
      "outputs": [
        {
          "output_type": "execute_result",
          "data": {
            "text/plain": [
              "a     95\n",
              "b    100\n",
              "c     85\n",
              "d     65\n",
              "e     55\n",
              "f    100\n",
              "g    105\n",
              "h     95\n",
              "i    100\n",
              "j    110\n",
              "dtype: int64"
            ]
          },
          "metadata": {},
          "execution_count": 36
        }
      ]
    },
    {
      "cell_type": "code",
      "source": [
        "# append(series) - 인자로 받은 series를 기존 series 뒤에 이어 붙여서 하나로 만든다.\n",
        "\n",
        "new = Series(10, index = ['k'])\n",
        "\n",
        "sample.append(new)"
      ],
      "metadata": {
        "colab": {
          "base_uri": "https://localhost:8080/"
        },
        "id": "0xJPqiLW8DCY",
        "outputId": "4ceb3817-a41a-44ff-fd0b-0a15f8f647c7"
      },
      "execution_count": null,
      "outputs": [
        {
          "output_type": "execute_result",
          "data": {
            "text/plain": [
              "a     85\n",
              "b     90\n",
              "c     75\n",
              "d     55\n",
              "e     45\n",
              "f     90\n",
              "g     95\n",
              "h     85\n",
              "i     90\n",
              "j    100\n",
              "k     10\n",
              "dtype: int64"
            ]
          },
          "metadata": {},
          "execution_count": 40
        }
      ]
    },
    {
      "cell_type": "code",
      "source": [
        "# isin(val_list) - Series에 있는 각각의 데이터들이 val_list에 포함되는지 여부를 확인한다\n",
        "\n",
        "sample.isin([85])"
      ],
      "metadata": {
        "colab": {
          "base_uri": "https://localhost:8080/"
        },
        "id": "6LBB7FLK842E",
        "outputId": "75411da2-83ff-411a-cb9d-966a32f69b84"
      },
      "execution_count": null,
      "outputs": [
        {
          "output_type": "execute_result",
          "data": {
            "text/plain": [
              "a     True\n",
              "b    False\n",
              "c    False\n",
              "d    False\n",
              "e    False\n",
              "f    False\n",
              "g    False\n",
              "h     True\n",
              "i    False\n",
              "j    False\n",
              "dtype: bool"
            ]
          },
          "metadata": {},
          "execution_count": 42
        }
      ]
    },
    {
      "cell_type": "code",
      "source": [
        "sample.isin([85, 90])"
      ],
      "metadata": {
        "colab": {
          "base_uri": "https://localhost:8080/"
        },
        "id": "LIFXBWyr9NaR",
        "outputId": "bb2edd0b-2865-43f0-a8db-95ddddefb758"
      },
      "execution_count": null,
      "outputs": [
        {
          "output_type": "execute_result",
          "data": {
            "text/plain": [
              "a     True\n",
              "b     True\n",
              "c    False\n",
              "d    False\n",
              "e    False\n",
              "f     True\n",
              "g    False\n",
              "h     True\n",
              "i     True\n",
              "j    False\n",
              "dtype: bool"
            ]
          },
          "metadata": {},
          "execution_count": 43
        }
      ]
    },
    {
      "cell_type": "markdown",
      "source": [
        "#### Mini Quiz - sample 데이터 내에 80이 있는지 확인하고 있으면 True, 없으면 False를 출력"
      ],
      "metadata": {
        "id": "Vt52739e9u_0"
      }
    },
    {
      "cell_type": "code",
      "source": [
        "80 in sample.values"
      ],
      "metadata": {
        "colab": {
          "base_uri": "https://localhost:8080/"
        },
        "id": "k2Iq5hx29hIh",
        "outputId": "503c7ffd-34a0-4cb7-a89c-7c74eb1f9d9e"
      },
      "execution_count": null,
      "outputs": [
        {
          "output_type": "execute_result",
          "data": {
            "text/plain": [
              "False"
            ]
          },
          "metadata": {},
          "execution_count": 48
        }
      ]
    },
    {
      "cell_type": "markdown",
      "source": [
        "#### Mini Quiz2 - sample 데이터의 인덱스에 h가 있는지 확인하여 있으면 True, 없으면 False를 출력"
      ],
      "metadata": {
        "id": "urgrtUsc-I4j"
      }
    },
    {
      "cell_type": "code",
      "source": [
        "'h' in sample.index"
      ],
      "metadata": {
        "colab": {
          "base_uri": "https://localhost:8080/"
        },
        "id": "Ttgd40sn97JD",
        "outputId": "fdd404c0-da6b-4224-ae5f-b231399ac533"
      },
      "execution_count": null,
      "outputs": [
        {
          "output_type": "execute_result",
          "data": {
            "text/plain": [
              "True"
            ]
          },
          "metadata": {},
          "execution_count": 49
        }
      ]
    },
    {
      "cell_type": "code",
      "source": [
        "# apply(func) - Series의 값에 인자로 받은 func 함수를 적용함\n",
        "\n",
        "def get_grade(val):\n",
        "  if val >= 80:\n",
        "    return 'good'\n",
        "\n",
        "  else:\n",
        "    return 'Bed'"
      ],
      "metadata": {
        "id": "UmyWnMQM-SAl"
      },
      "execution_count": null,
      "outputs": []
    },
    {
      "cell_type": "code",
      "source": [
        "sample.apply(get_grade)"
      ],
      "metadata": {
        "colab": {
          "base_uri": "https://localhost:8080/"
        },
        "id": "J20bq5br-xfi",
        "outputId": "acfed570-5eb1-4272-c757-7df5fd06afca"
      },
      "execution_count": null,
      "outputs": [
        {
          "output_type": "execute_result",
          "data": {
            "text/plain": [
              "a    good\n",
              "b    good\n",
              "c     Bed\n",
              "d     Bed\n",
              "e     Bed\n",
              "f    good\n",
              "g    good\n",
              "h    good\n",
              "i    good\n",
              "j    good\n",
              "dtype: object"
            ]
          },
          "metadata": {},
          "execution_count": 51
        }
      ]
    },
    {
      "cell_type": "markdown",
      "source": [
        "##### 익명함수\n",
        "- 람다(lamda)함수라고도 함\n",
        "- 함수를 재사용할 가능성이 희박하거나 간단한 함수일 경우에 사용한다.\n",
        "- 여러줄의 코드가 필요 없고 메모리를 절약할 수 있다는 장점이 있다."
      ],
      "metadata": {
        "id": "XvggTsQe_IPZ"
      }
    },
    {
      "cell_type": "code",
      "source": [
        "sample.apply(lambda val: 'good' if val>= 80 else 'Bad')"
      ],
      "metadata": {
        "colab": {
          "base_uri": "https://localhost:8080/"
        },
        "id": "_K6Nl0lx-z6k",
        "outputId": "6e6b22d2-fc16-4f53-b96b-03af001e039e"
      },
      "execution_count": null,
      "outputs": [
        {
          "output_type": "execute_result",
          "data": {
            "text/plain": [
              "a    good\n",
              "b    good\n",
              "c     Bad\n",
              "d     Bad\n",
              "e     Bad\n",
              "f    good\n",
              "g    good\n",
              "h    good\n",
              "i    good\n",
              "j    good\n",
              "dtype: object"
            ]
          },
          "metadata": {},
          "execution_count": 52
        }
      ]
    },
    {
      "cell_type": "markdown",
      "source": [
        "### Indexing을 활용하여 내가 원하는 데이터 선택하기 "
      ],
      "metadata": {
        "id": "lW-N8iUsAVNk"
      }
    },
    {
      "cell_type": "code",
      "source": [
        "# 특정 인덱스 선택하기 / 숫자 인덱스와 인덱스 라벨 모두 가능함\n",
        "# 숫자 인덱스의 경우 0부터 시작함\n",
        "\n",
        "sample[0]"
      ],
      "metadata": {
        "colab": {
          "base_uri": "https://localhost:8080/"
        },
        "id": "urB2p907_kw2",
        "outputId": "26b76922-4810-4c0e-c614-c7013876f461"
      },
      "execution_count": null,
      "outputs": [
        {
          "output_type": "execute_result",
          "data": {
            "text/plain": [
              "85"
            ]
          },
          "metadata": {},
          "execution_count": 53
        }
      ]
    },
    {
      "cell_type": "code",
      "source": [
        "# 인덱스 라벨로 선택\n",
        "\n",
        "sample['d']"
      ],
      "metadata": {
        "colab": {
          "base_uri": "https://localhost:8080/"
        },
        "id": "F6J0lR3rKyW8",
        "outputId": "147606e7-330f-44b2-b147-bb216feb7bc9"
      },
      "execution_count": null,
      "outputs": [
        {
          "output_type": "execute_result",
          "data": {
            "text/plain": [
              "55"
            ]
          },
          "metadata": {},
          "execution_count": 55
        }
      ]
    },
    {
      "cell_type": "code",
      "source": [
        "# 여러 인덱스를 동시에 선택하기 / 선택하고자 하는 인덱스 목록을 리스트로 전달해야 함\n",
        "\n",
        "sample[[2, 3, 4]]"
      ],
      "metadata": {
        "colab": {
          "base_uri": "https://localhost:8080/"
        },
        "id": "rY87p_XyKqPm",
        "outputId": "8e04f325-1021-4a73-a79b-2af0837c5f25"
      },
      "execution_count": null,
      "outputs": [
        {
          "output_type": "execute_result",
          "data": {
            "text/plain": [
              "c    75\n",
              "d    55\n",
              "e    45\n",
              "dtype: int64"
            ]
          },
          "metadata": {},
          "execution_count": 57
        }
      ]
    },
    {
      "cell_type": "code",
      "source": [
        "sample[['a', 'c', 'd']]"
      ],
      "metadata": {
        "colab": {
          "base_uri": "https://localhost:8080/"
        },
        "id": "XjccZ5gYLpOJ",
        "outputId": "37beb5be-1508-4171-abf2-e2e42466c9d2"
      },
      "execution_count": null,
      "outputs": [
        {
          "output_type": "execute_result",
          "data": {
            "text/plain": [
              "a    85\n",
              "c    75\n",
              "d    55\n",
              "dtype: int64"
            ]
          },
          "metadata": {},
          "execution_count": 58
        }
      ]
    },
    {
      "cell_type": "code",
      "source": [
        "# 인덱스 슬라이싱 / 주어진 범위 값을 주고 범위에 해당하는 데이터를 선택함\n",
        "# 문자 인덱스의 경우 엔드 인덱스를 포함하지만 숫자 인덱스의 경우 엔드 인덱스를 포함하지 않는다.\n",
        "\n",
        "sample[2:6]"
      ],
      "metadata": {
        "colab": {
          "base_uri": "https://localhost:8080/"
        },
        "id": "QkYAXa7dL8T-",
        "outputId": "1dd69b86-7f98-464e-f415-c301a2a43914"
      },
      "execution_count": null,
      "outputs": [
        {
          "output_type": "execute_result",
          "data": {
            "text/plain": [
              "c    75\n",
              "d    55\n",
              "e    45\n",
              "f    90\n",
              "dtype: int64"
            ]
          },
          "metadata": {},
          "execution_count": 62
        }
      ]
    },
    {
      "cell_type": "code",
      "source": [
        "sample['a':'e']"
      ],
      "metadata": {
        "colab": {
          "base_uri": "https://localhost:8080/"
        },
        "id": "y8KXpwQnMYVF",
        "outputId": "3bee7fe6-1d63-4056-84ad-8dc5af59713f"
      },
      "execution_count": null,
      "outputs": [
        {
          "output_type": "execute_result",
          "data": {
            "text/plain": [
              "a    85\n",
              "b    90\n",
              "c    75\n",
              "d    55\n",
              "e    45\n",
              "dtype: int64"
            ]
          },
          "metadata": {},
          "execution_count": 61
        }
      ]
    },
    {
      "cell_type": "code",
      "source": [
        "# 스타트 인덱스나 엔드 인덱스는 생략이 가능하다\n",
        "\n",
        "sample[:6]"
      ],
      "metadata": {
        "colab": {
          "base_uri": "https://localhost:8080/"
        },
        "id": "QbQybBWiNTkl",
        "outputId": "5055a0f3-6cbe-4f12-a12d-61e68ba4ed67"
      },
      "execution_count": null,
      "outputs": [
        {
          "output_type": "execute_result",
          "data": {
            "text/plain": [
              "a    85\n",
              "b    90\n",
              "c    75\n",
              "d    55\n",
              "e    45\n",
              "f    90\n",
              "dtype: int64"
            ]
          },
          "metadata": {},
          "execution_count": 64
        }
      ]
    },
    {
      "cell_type": "code",
      "source": [
        "sample[2:]"
      ],
      "metadata": {
        "colab": {
          "base_uri": "https://localhost:8080/"
        },
        "id": "fFqt-wrWMrXK",
        "outputId": "bdd5f185-ead4-4c15-f6cc-cf8f90346822"
      },
      "execution_count": null,
      "outputs": [
        {
          "output_type": "execute_result",
          "data": {
            "text/plain": [
              "c     75\n",
              "d     55\n",
              "e     45\n",
              "f     90\n",
              "g     95\n",
              "h     85\n",
              "i     90\n",
              "j    100\n",
              "dtype: int64"
            ]
          },
          "metadata": {},
          "execution_count": 65
        }
      ]
    },
    {
      "cell_type": "code",
      "source": [
        ""
      ],
      "metadata": {
        "id": "cGTJX_rRNfZo"
      },
      "execution_count": null,
      "outputs": []
    }
  ]
}