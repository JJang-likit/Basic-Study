{
  "nbformat": 4,
  "nbformat_minor": 0,
  "metadata": {
    "colab": {
      "name": "matplotlib.ipynb",
      "provenance": [],
      "authorship_tag": "ABX9TyNmV7MaJdAadP/sIg2PmZCX",
      "include_colab_link": true
    },
    "kernelspec": {
      "name": "python3",
      "display_name": "Python 3"
    },
    "language_info": {
      "name": "python"
    }
  },
  "cells": [
    {
      "cell_type": "markdown",
      "metadata": {
        "id": "view-in-github",
        "colab_type": "text"
      },
      "source": [
        "<a href=\"https://colab.research.google.com/github/JJang-likit/Basic-Study/blob/main/matplotlib.ipynb\" target=\"_parent\"><img src=\"https://colab.research.google.com/assets/colab-badge.svg\" alt=\"Open In Colab\"/></a>"
      ]
    },
    {
      "cell_type": "markdown",
      "source": [
        "# matplotlib_라이브러리 이해하기\n",
        "\n",
        "## matplotlib.pyplot\n",
        "- matplotlib의 핵심 모듈이다.\n",
        "- 데이터 시각화를 위한 대부분의 기능을 제공한다.\n",
        "- figure는 그래프를 그리기 위한 도화지로 이해할 수 있다.\n",
        "- axes(subplot)은 figure 안에 그리는 그래프를 의미한다.\n",
        "- 하나의 figure 안에 여러 개의 axes를 그릴 수 있지만 하나의 axes는 여러 개의 figure에 속할 수 없다.\n",
        "- axes는 2개의 축(x,y)을 가진다."
      ],
      "metadata": {
        "id": "7a2ReNsi5F2Z"
      }
    },
    {
      "cell_type": "markdown",
      "source": [
        "## matplotlib이 제공하는 주요 기능\n",
        "- Line Plot(선 그래프) : x축이 연속형 값인 경우 주로 활용된다.(날짜, 년도와 같은 시계열 데이터)\n",
        "- Bar Plot(막대 그래프) : x축의 값이 주로 범주형 변수인 경우에 활용된다.(성별, 기기유형 등)\n",
        "- Pie Plot(파이 차트) : 점유율과 같이 y값의 합이 100인 데이터 시각화에 주로 사용된다.\n",
        "- 히스토그램 : 숫자 데이터를 동일한 폭의 통으로 그룹화하여 자료를 표현하는 방식이다.(연령대별로 분포도를 그리고 싶은 경우)\n",
        "- scatter(산점도 그래프) : 데이터의 분포를 볼 때 주로 사용된다.\n",
        "- imshow : 단순한 이미지를 그릴 때 사용"
      ],
      "metadata": {
        "id": "DiE2X0xy5t9D"
      }
    },
    {
      "cell_type": "markdown",
      "source": [
        "## 데이터, 상황별 차트 선택 가이드라인\n",
        "- 비교(Comparison) : 막대그래프(범주형 데이터 비교), 라인그래프(시계열 데이터 비교)\n",
        "- 관계(Relationship) : 스캐터 차트(2차원 데이터), 버블 차트(3차원 데이터)\n",
        "- 분산(Distribution) : 히스토그램\n",
        "- 구성요소(Composition) : 파이차트, 막대그래프"
      ],
      "metadata": {
        "id": "UEo5Tr5R7I0e"
      }
    },
    {
      "cell_type": "markdown",
      "source": [
        "### matplotlib 연습"
      ],
      "metadata": {
        "id": "Xox9w3ih773t"
      }
    },
    {
      "cell_type": "code",
      "execution_count": null,
      "metadata": {
        "id": "IbRQl0vG5D8N"
      },
      "outputs": [],
      "source": [
        "# 라이브러리 불러오기\n",
        "\n",
        "import pandas as pd\n",
        "from pandas import Series, DataFrame\n",
        "import numpy as np\n",
        "\n",
        "import matplotlib\n",
        "import matplotlib.pyplot as plt"
      ]
    },
    {
      "cell_type": "code",
      "source": [
        "# 라인 그래프 그리기\n",
        "\n",
        "sr = Series([5, 10, 15], index = ['a', 'b', 'c'])\n",
        "sr"
      ],
      "metadata": {
        "colab": {
          "base_uri": "https://localhost:8080/"
        },
        "id": "MuXmC4RF8JoN",
        "outputId": "c581c224-879c-4073-96a6-bd29f6f49274"
      },
      "execution_count": null,
      "outputs": [
        {
          "output_type": "execute_result",
          "data": {
            "text/plain": [
              "a     5\n",
              "b    10\n",
              "c    15\n",
              "dtype: int64"
            ]
          },
          "metadata": {},
          "execution_count": 3
        }
      ]
    },
    {
      "cell_type": "code",
      "source": [
        "# 라인 그래프를 그릴 때는 plot( )을 이용해서 그린다.\n",
        "\n",
        "plt.plot(sr)"
      ],
      "metadata": {
        "colab": {
          "base_uri": "https://localhost:8080/",
          "height": 283
        },
        "id": "ij_NHj2r8eOT",
        "outputId": "2494ee30-c9f7-4412-e0df-080cf88e6a28"
      },
      "execution_count": null,
      "outputs": [
        {
          "output_type": "execute_result",
          "data": {
            "text/plain": [
              "[<matplotlib.lines.Line2D at 0x7fcb0d6d8510>]"
            ]
          },
          "metadata": {},
          "execution_count": 4
        },
        {
          "output_type": "display_data",
          "data": {
            "text/plain": [
              "<Figure size 432x288 with 1 Axes>"
            ],
            "image/png": "[encoded data removed]"
          },
          "metadata": {
            "needs_background": "light"
          }
        }
      ]
    },
    {
      "cell_type": "code",
      "source": [
        "# 바 그래프 그리기\n",
        "\n",
        "sr1 = Series([1,2,4,8,16], index = ['a','b','c','d','e'])\n",
        "sr1"
      ],
      "metadata": {
        "colab": {
          "base_uri": "https://localhost:8080/"
        },
        "id": "4_RU_b5B8oYS",
        "outputId": "4a5f993c-e0d8-46a4-ea0d-69aeafb4aa4d"
      },
      "execution_count": null,
      "outputs": [
        {
          "output_type": "execute_result",
          "data": {
            "text/plain": [
              "a     1\n",
              "b     2\n",
              "c     4\n",
              "d     8\n",
              "e    16\n",
              "dtype: int64"
            ]
          },
          "metadata": {},
          "execution_count": 5
        }
      ]
    },
    {
      "cell_type": "code",
      "source": [
        "# 바 그래프는 bar( )를 이용해서 그릴 수 있다.\n",
        "# bar( )의 경우 x값과 height값을 인자로 넣어주어야 한다.\n",
        "\n",
        "plt.bar(sr1.index, sr1.values)"
      ],
      "metadata": {
        "colab": {
          "base_uri": "https://localhost:8080/",
          "height": 283
        },
        "id": "xr6jszMQ8_-M",
        "outputId": "fe935720-a061-4dec-a3e7-3fe2289948f7"
      },
      "execution_count": null,
      "outputs": [
        {
          "output_type": "execute_result",
          "data": {
            "text/plain": [
              "<BarContainer object of 5 artists>"
            ]
          },
          "metadata": {},
          "execution_count": 6
        },
        {
          "output_type": "display_data",
          "data": {
            "text/plain": [
              "<Figure size 432x288 with 1 Axes>"
            ],
            "image/png": "[encoded data removed]"
          },
          "metadata": {
            "needs_background": "light"
          }
        }
      ]
    },
    {
      "cell_type": "markdown",
      "source": [
        "### 하나의 figure 안에 두 개의 그래프 그리기\n",
        "- plt.subplots( ) 함수는 새로운 figure와 axes(subplots)을 생성해준다."
      ],
      "metadata": {
        "id": "jRZxku8q-P9Y"
      }
    },
    {
      "cell_type": "code",
      "source": [
        "fig, axes = plt.subplots()\n",
        "axes.plot(sr1, color = 'r')\n",
        "axes.bar(sr1.index, sr1.values)"
      ],
      "metadata": {
        "colab": {
          "base_uri": "https://localhost:8080/",
          "height": 283
        },
        "id": "zNYBevxv9g0P",
        "outputId": "91a9cb75-aeae-49f0-8329-646b82c13dc7"
      },
      "execution_count": null,
      "outputs": [
        {
          "output_type": "execute_result",
          "data": {
            "text/plain": [
              "<BarContainer object of 5 artists>"
            ]
          },
          "metadata": {},
          "execution_count": 12
        },
        {
          "output_type": "display_data",
          "data": {
            "text/plain": [
              "<Figure size 432x288 with 1 Axes>"
            ],
            "image/png": "[encoded data removed]"
          },
          "metadata": {
            "needs_background": "light"
          }
        }
      ]
    },
    {
      "cell_type": "code",
      "source": [
        "# 두 개의 그래프를 서로 다른 y축 적용하기\n",
        "\n",
        "sr2 = Series([500, 300, 250, 180, 700], index = ['a', 'b', 'c', 'd', 'e'])\n",
        "sr2"
      ],
      "metadata": {
        "colab": {
          "base_uri": "https://localhost:8080/"
        },
        "id": "dgJ4w5PE-dTd",
        "outputId": "22ea21a4-83b9-4d70-e404-53c17142179b"
      },
      "execution_count": null,
      "outputs": [
        {
          "output_type": "execute_result",
          "data": {
            "text/plain": [
              "a    500\n",
              "b    300\n",
              "c    250\n",
              "d    180\n",
              "e    700\n",
              "dtype: int64"
            ]
          },
          "metadata": {},
          "execution_count": 13
        }
      ]
    },
    {
      "cell_type": "code",
      "source": [
        "fig, axes = plt.subplots()\n",
        "axes.plot(sr1, color = 'r')\n",
        "axes.bar(sr2.index, sr2.values)"
      ],
      "metadata": {
        "colab": {
          "base_uri": "https://localhost:8080/",
          "height": 283
        },
        "id": "vl_LXULJ--uL",
        "outputId": "fac9c7f0-5eb2-4493-d226-14a8d44cad2a"
      },
      "execution_count": null,
      "outputs": [
        {
          "output_type": "execute_result",
          "data": {
            "text/plain": [
              "<BarContainer object of 5 artists>"
            ]
          },
          "metadata": {},
          "execution_count": 15
        },
        {
          "output_type": "display_data",
          "data": {
            "text/plain": [
              "<Figure size 432x288 with 1 Axes>"
            ],
            "image/png": "[encoded data removed]"
          },
          "metadata": {
            "needs_background": "light"
          }
        }
      ]
    },
    {
      "cell_type": "markdown",
      "source": [
        "- 두 데이터의 y축 값의 차이가 커서 시각화를 통해 직관적으로 정보를 얻기 어려움\n",
        "- 이런 경우 2개의 y축을 각각 적용해주어야 함\n",
        "- 왼쪽의 경우 라인 그래프, 오른쪽의 경우 바 그래프의 y축으로 사용함"
      ],
      "metadata": {
        "id": "nigX8Btj_Pxg"
      }
    },
    {
      "cell_type": "code",
      "source": [
        "# ax.twinx( )를 통해서 y축을 같이 적용할 수 있다.\n",
        "\n",
        "fig, axes = plt.subplots()\n",
        "axes.plot(sr1, color = 'r')\n",
        "axes2  = axes.twinx()\n",
        "axes2.bar(sr2.index, sr2.values)"
      ],
      "metadata": {
        "colab": {
          "base_uri": "https://localhost:8080/",
          "height": 283
        },
        "id": "BexhRewd_KC4",
        "outputId": "9474de36-6640-4d3a-8ba0-b6a87071ea40"
      },
      "execution_count": null,
      "outputs": [
        {
          "output_type": "execute_result",
          "data": {
            "text/plain": [
              "<BarContainer object of 5 artists>"
            ]
          },
          "metadata": {},
          "execution_count": 16
        },
        {
          "output_type": "display_data",
          "data": {
            "text/plain": [
              "<Figure size 432x288 with 2 Axes>"
            ],
            "image/png": "[encoded data removed]"
          },
          "metadata": {
            "needs_background": "light"
          }
        }
      ]
    },
    {
      "cell_type": "code",
      "source": [
        "# tick_params( )를 통해서 y축에 색 변화를 줄 수 있다.\n",
        "\n",
        "fig, axes = plt.subplots()\n",
        "axes.plot(sr1, color = 'r')\n",
        "axes.tick_params(axis = 'y', labelcolor = 'r')\n",
        "axes2  = axes.twinx()\n",
        "axes2.bar(sr2.index, sr2.values)"
      ],
      "metadata": {
        "colab": {
          "base_uri": "https://localhost:8080/",
          "height": 283
        },
        "id": "rHSwLO5k_6zF",
        "outputId": "66c9babc-b2c5-4eca-9031-9c0ae8c467a8"
      },
      "execution_count": null,
      "outputs": [
        {
          "output_type": "execute_result",
          "data": {
            "text/plain": [
              "<BarContainer object of 5 artists>"
            ]
          },
          "metadata": {},
          "execution_count": 17
        },
        {
          "output_type": "display_data",
          "data": {
            "text/plain": [
              "<Figure size 432x288 with 2 Axes>"
            ],
            "image/png": "[encoded data removed]"
          },
          "metadata": {
            "needs_background": "light"
          }
        }
      ]
    },
    {
      "cell_type": "code",
      "source": [
        "# 바 그래프에 alpha 값으로 투명도를 조절해줄 수 있다.(0~1 사이의 값)\n",
        "\n",
        "fig, axes = plt.subplots()\n",
        "axes.plot(sr1, color = 'r')\n",
        "axes.tick_params(axis = 'y', labelcolor = 'r')\n",
        "axes2  = axes.twinx()\n",
        "axes2.bar(sr2.index, sr2.values, alpha = 0.3)"
      ],
      "metadata": {
        "colab": {
          "base_uri": "https://localhost:8080/",
          "height": 283
        },
        "id": "CWnc2CpHAY8w",
        "outputId": "5ffd59db-85cc-424f-d0bd-dcc0a5dd5913"
      },
      "execution_count": null,
      "outputs": [
        {
          "output_type": "execute_result",
          "data": {
            "text/plain": [
              "<BarContainer object of 5 artists>"
            ]
          },
          "metadata": {},
          "execution_count": 18
        },
        {
          "output_type": "display_data",
          "data": {
            "text/plain": [
              "<Figure size 432x288 with 2 Axes>"
            ],
            "image/png": "[encoded data removed]"
          },
          "metadata": {
            "needs_background": "light"
          }
        }
      ]
    },
    {
      "cell_type": "markdown",
      "source": [
        "### 여러 개 그래프 그리기"
      ],
      "metadata": {
        "id": "Et_teIfcAw9N"
      }
    },
    {
      "cell_type": "code",
      "source": [
        "# subplots( )의 인자값으로 몇 개의 그래프를 생성할지 지정할 수 있다.\n",
        "# 좌상단부터 (0, 0), (0, 1), (1, 0), (1, 1)이 좌표가 된다.\n",
        "import random\n",
        "\n",
        "fig, ax1 = plt.subplots(2,2)\n",
        "ax1[0,0].plot(sr)\n",
        "ax1[0,1].hist(random.sample(range(1,100), 50), bins = 5) # bins는 몇 개의 그룹으로 나눌지 결정할 수 있다.\n",
        "ax1[1,0].bar(sr2.index, sr2.values)\n",
        "ax1[1,1].scatter(random.sample(range(1,100), 50), random.sample(range(1,100), 50)) # scatter는 x와 y값 2개를 인자로 주어야 한다."
      ],
      "metadata": {
        "colab": {
          "base_uri": "https://localhost:8080/",
          "height": 283
        },
        "id": "Xr3fXPPuAmQC",
        "outputId": "f6f8a08b-b346-40ba-bceb-6ddea8a90df1"
      },
      "execution_count": null,
      "outputs": [
        {
          "output_type": "execute_result",
          "data": {
            "text/plain": [
              "<matplotlib.collections.PathCollection at 0x7fcb0c8b1f10>"
            ]
          },
          "metadata": {},
          "execution_count": 32
        },
        {
          "output_type": "display_data",
          "data": {
            "text/plain": [
              "<Figure size 432x288 with 4 Axes>"
            ],
            "image/png": "[encoded data removed]"
          },
          "metadata": {
            "needs_background": "light"
          }
        }
      ]
    },
    {
      "cell_type": "code",
      "source": [
        "fig, ax1 = plt.subplots(2,2)\n",
        "ax1[0,0].plot(sr)\n",
        "ax1[0,0].set_title('Axes #1') # set_title을 통해서 제목을 지정할 수 있다.\n",
        "ax1[0,1].hist(random.sample(range(1,100), 50), bins = 5) \n",
        "ax1[1,0].bar(sr2.index, sr2.values)\n",
        "ax1[1,1].scatter(random.sample(range(1,100), 50), random.sample(range(1,100), 50)) "
      ],
      "metadata": {
        "colab": {
          "base_uri": "https://localhost:8080/",
          "height": 299
        },
        "id": "FCobFp0XA9RX",
        "outputId": "1ec067b0-8ad4-42c0-aa6a-e4dbbe698a36"
      },
      "execution_count": null,
      "outputs": [
        {
          "output_type": "execute_result",
          "data": {
            "text/plain": [
              "<matplotlib.collections.PathCollection at 0x7fcb0c721d90>"
            ]
          },
          "metadata": {},
          "execution_count": 39
        },
        {
          "output_type": "display_data",
          "data": {
            "text/plain": [
              "<Figure size 432x288 with 4 Axes>"
            ],
            "image/png": "[encoded data removed]"
          },
          "metadata": {
            "needs_background": "light"
          }
        }
      ]
    },
    {
      "cell_type": "code",
      "source": [
        "fig, ax1 = plt.subplots(2,2)\n",
        "ax1[0,0].plot(sr)\n",
        "ax1[0,0].set_title('Axes #1')\n",
        "ax1[0,0].set_xlabel('x1') # set_xlabel을 통해서 xlabel의 이름을 지정할 수 있다.\n",
        "ax1[0,0].set_ylabel('y1')\n",
        "ax1[0,1].hist(random.sample(range(1,100), 50), bins = 5) \n",
        "ax1[1,0].bar(sr2.index, sr2.values)\n",
        "ax1[1,1].scatter(random.sample(range(1,100), 50), random.sample(range(1,100), 50)) \n",
        "\n",
        "plt.subplots_adjust(hspace = 0.5, wspace = 0.3) # subplots_adjust를 통해서 각 그래프간의 여백을 설정해 줄 수 있다."
      ],
      "metadata": {
        "colab": {
          "base_uri": "https://localhost:8080/",
          "height": 281
        },
        "id": "zkd31ChWDHx7",
        "outputId": "a851db4d-6a80-4326-afc3-31a2ca6293f3"
      },
      "execution_count": null,
      "outputs": [
        {
          "output_type": "display_data",
          "data": {
            "text/plain": [
              "<Figure size 432x288 with 4 Axes>"
            ],
            "image/png": "[encoded data removed]"
          },
          "metadata": {
            "needs_background": "light"
          }
        }
      ]
    },
    {
      "cell_type": "code",
      "source": [
        ""
      ],
      "metadata": {
        "id": "2qvuKeF_FRpV"
      },
      "execution_count": null,
      "outputs": []
    }
  ]
}